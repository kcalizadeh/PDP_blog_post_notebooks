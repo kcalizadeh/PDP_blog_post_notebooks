{
 "metadata": {
  "language_info": {
   "codemirror_mode": {
    "name": "ipython",
    "version": 3
   },
   "file_extension": ".py",
   "mimetype": "text/x-python",
   "name": "python",
   "nbconvert_exporter": "python",
   "pygments_lexer": "ipython3",
   "version": "3.6.9-final"
  },
  "orig_nbformat": 2,
  "kernelspec": {
   "name": "python3",
   "display_name": "Python 3.6.9 64-bit ('learn-env': conda)",
   "metadata": {
    "interpreter": {
     "hash": "9ac4d3343b464ceb9c6b349fee6aeea784c980ce57d0bbc1775a5f7d482c030a"
    }
   }
  }
 },
 "nbformat": 4,
 "nbformat_minor": 2,
 "cells": [
  {
   "cell_type": "code",
   "execution_count": 1,
   "metadata": {},
   "outputs": [],
   "source": [
    "import pandas as pd \n",
    "\n",
    "df = pd.read_csv('phil_nlp.csv')"
   ]
  },
  {
   "cell_type": "code",
   "execution_count": 2,
   "metadata": {},
   "outputs": [
    {
     "output_type": "execute_result",
     "data": {
      "text/plain": [
       "                               title        author         school  \\\n",
       "210901     Difference And Repetition       Deleuze    Continental   \n",
       "138981  Philosophical Investigations  Wittgenstein       Analytic   \n",
       "244248          Off The Beaten Track     Heidegger  Phenomenology   \n",
       "198176           The Order Of Things      Foucault    Continental   \n",
       "338456        Thus Spake Zarathustra     Nietzsche      Nietzsche   \n",
       "\n",
       "                                           sentence_spacy  \\\n",
       "210901  It is the excess in the Idea which explains th...   \n",
       "138981       so far it is not a move in the languagegame.   \n",
       "244248  As the being that it is, consciousness is phen...   \n",
       "198176  It is not a matter of progressive hierarchizat...   \n",
       "338456               there time was my sole contemporary.   \n",
       "\n",
       "                                             sentence_str  sentence_length  \\\n",
       "210901  It is the excess in the Idea which explains th...              288   \n",
       "138981       so far it is not a move in the languagegame.               44   \n",
       "244248  As the being that it is, consciousness is phen...               64   \n",
       "198176  It is not a matter of progressive hierarchizat...              131   \n",
       "338456               there time was my sole contemporary.               36   \n",
       "\n",
       "                                         sentence_lowered  \\\n",
       "210901  it is the excess in the idea which explains th...   \n",
       "138981       so far it is not a move in the languagegame.   \n",
       "244248  as the being that it is, consciousness is phen...   \n",
       "198176  it is not a matter of progressive hierarchizat...   \n",
       "338456               there time was my sole contemporary.   \n",
       "\n",
       "                                            tokenized_txt  \\\n",
       "210901  ['it', 'is', 'the', 'excess', 'in', 'the', 'id...   \n",
       "138981  ['so', 'far', 'it', 'is', 'not', 'move', 'in',...   \n",
       "244248  ['as', 'the', 'being', 'that', 'it', 'is', 'co...   \n",
       "198176  ['it', 'is', 'not', 'matter', 'of', 'progressi...   \n",
       "338456  ['there', 'time', 'was', 'my', 'sole', 'contem...   \n",
       "\n",
       "                                           lemmatized_str  \\\n",
       "210901   -PRON- be the excess in the Idea which explai...   \n",
       "138981   so far -PRON- be not a move in the languagega...   \n",
       "244248   as the being that -PRON- be , consciousness b...   \n",
       "198176   -PRON- be not a matter of progressive hierarc...   \n",
       "338456           there time be -PRON- sole contemporary .   \n",
       "\n",
       "                                                 sentence  \n",
       "210901  It is the excess in the Idea which explains th...  \n",
       "138981       so far it is not a move in the languagegame.  \n",
       "244248  As the being that it is, consciousness is phen...  \n",
       "198176  It is not a matter of progressive hierarchizat...  \n",
       "338456               there time was my sole contemporary.  "
      ],
      "text/html": "<div>\n<style scoped>\n    .dataframe tbody tr th:only-of-type {\n        vertical-align: middle;\n    }\n\n    .dataframe tbody tr th {\n        vertical-align: top;\n    }\n\n    .dataframe thead th {\n        text-align: right;\n    }\n</style>\n<table border=\"1\" class=\"dataframe\">\n  <thead>\n    <tr style=\"text-align: right;\">\n      <th></th>\n      <th>title</th>\n      <th>author</th>\n      <th>school</th>\n      <th>sentence_spacy</th>\n      <th>sentence_str</th>\n      <th>sentence_length</th>\n      <th>sentence_lowered</th>\n      <th>tokenized_txt</th>\n      <th>lemmatized_str</th>\n      <th>sentence</th>\n    </tr>\n  </thead>\n  <tbody>\n    <tr>\n      <th>210901</th>\n      <td>Difference And Repetition</td>\n      <td>Deleuze</td>\n      <td>Continental</td>\n      <td>It is the excess in the Idea which explains th...</td>\n      <td>It is the excess in the Idea which explains th...</td>\n      <td>288</td>\n      <td>it is the excess in the idea which explains th...</td>\n      <td>['it', 'is', 'the', 'excess', 'in', 'the', 'id...</td>\n      <td>-PRON- be the excess in the Idea which explai...</td>\n      <td>It is the excess in the Idea which explains th...</td>\n    </tr>\n    <tr>\n      <th>138981</th>\n      <td>Philosophical Investigations</td>\n      <td>Wittgenstein</td>\n      <td>Analytic</td>\n      <td>so far it is not a move in the languagegame.</td>\n      <td>so far it is not a move in the languagegame.</td>\n      <td>44</td>\n      <td>so far it is not a move in the languagegame.</td>\n      <td>['so', 'far', 'it', 'is', 'not', 'move', 'in',...</td>\n      <td>so far -PRON- be not a move in the languagega...</td>\n      <td>so far it is not a move in the languagegame.</td>\n    </tr>\n    <tr>\n      <th>244248</th>\n      <td>Off The Beaten Track</td>\n      <td>Heidegger</td>\n      <td>Phenomenology</td>\n      <td>As the being that it is, consciousness is phen...</td>\n      <td>As the being that it is, consciousness is phen...</td>\n      <td>64</td>\n      <td>as the being that it is, consciousness is phen...</td>\n      <td>['as', 'the', 'being', 'that', 'it', 'is', 'co...</td>\n      <td>as the being that -PRON- be , consciousness b...</td>\n      <td>As the being that it is, consciousness is phen...</td>\n    </tr>\n    <tr>\n      <th>198176</th>\n      <td>The Order Of Things</td>\n      <td>Foucault</td>\n      <td>Continental</td>\n      <td>It is not a matter of progressive hierarchizat...</td>\n      <td>It is not a matter of progressive hierarchizat...</td>\n      <td>131</td>\n      <td>it is not a matter of progressive hierarchizat...</td>\n      <td>['it', 'is', 'not', 'matter', 'of', 'progressi...</td>\n      <td>-PRON- be not a matter of progressive hierarc...</td>\n      <td>It is not a matter of progressive hierarchizat...</td>\n    </tr>\n    <tr>\n      <th>338456</th>\n      <td>Thus Spake Zarathustra</td>\n      <td>Nietzsche</td>\n      <td>Nietzsche</td>\n      <td>there time was my sole contemporary.</td>\n      <td>there time was my sole contemporary.</td>\n      <td>36</td>\n      <td>there time was my sole contemporary.</td>\n      <td>['there', 'time', 'was', 'my', 'sole', 'contem...</td>\n      <td>there time be -PRON- sole contemporary .</td>\n      <td>there time was my sole contemporary.</td>\n    </tr>\n  </tbody>\n</table>\n</div>"
     },
     "metadata": {},
     "execution_count": 2
    }
   ],
   "source": [
    "df.sample(5)"
   ]
  },
  {
   "cell_type": "code",
   "execution_count": 3,
   "metadata": {},
   "outputs": [
    {
     "output_type": "execute_result",
     "data": {
      "text/plain": [
       "12"
      ]
     },
     "metadata": {},
     "execution_count": 3
    }
   ],
   "source": [
    "len(df['school'].unique())"
   ]
  },
  {
   "cell_type": "code",
   "execution_count": 4,
   "metadata": {},
   "outputs": [],
   "source": [
    "from sklearn.feature_extraction.text import CountVectorizer"
   ]
  },
  {
   "cell_type": "code",
   "execution_count": 34,
   "metadata": {},
   "outputs": [
    {
     "output_type": "stream",
     "text": [
      "\u001b[1;31mInit signature:\u001b[0m\n",
      "\u001b[0mCountVectorizer\u001b[0m\u001b[1;33m(\u001b[0m\u001b[1;33m\n",
      "\u001b[0m    \u001b[1;33m*\u001b[0m\u001b[1;33m,\u001b[0m\u001b[1;33m\n",
      "\u001b[0m    \u001b[0minput\u001b[0m\u001b[1;33m=\u001b[0m\u001b[1;34m'content'\u001b[0m\u001b[1;33m,\u001b[0m\u001b[1;33m\n",
      "\u001b[0m    \u001b[0mencoding\u001b[0m\u001b[1;33m=\u001b[0m\u001b[1;34m'utf-8'\u001b[0m\u001b[1;33m,\u001b[0m\u001b[1;33m\n",
      "\u001b[0m    \u001b[0mdecode_error\u001b[0m\u001b[1;33m=\u001b[0m\u001b[1;34m'strict'\u001b[0m\u001b[1;33m,\u001b[0m\u001b[1;33m\n",
      "\u001b[0m    \u001b[0mstrip_accents\u001b[0m\u001b[1;33m=\u001b[0m\u001b[1;32mNone\u001b[0m\u001b[1;33m,\u001b[0m\u001b[1;33m\n",
      "\u001b[0m    \u001b[0mlowercase\u001b[0m\u001b[1;33m=\u001b[0m\u001b[1;32mTrue\u001b[0m\u001b[1;33m,\u001b[0m\u001b[1;33m\n",
      "\u001b[0m    \u001b[0mpreprocessor\u001b[0m\u001b[1;33m=\u001b[0m\u001b[1;32mNone\u001b[0m\u001b[1;33m,\u001b[0m\u001b[1;33m\n",
      "\u001b[0m    \u001b[0mtokenizer\u001b[0m\u001b[1;33m=\u001b[0m\u001b[1;32mNone\u001b[0m\u001b[1;33m,\u001b[0m\u001b[1;33m\n",
      "\u001b[0m    \u001b[0mstop_words\u001b[0m\u001b[1;33m=\u001b[0m\u001b[1;32mNone\u001b[0m\u001b[1;33m,\u001b[0m\u001b[1;33m\n",
      "\u001b[0m    \u001b[0mtoken_pattern\u001b[0m\u001b[1;33m=\u001b[0m\u001b[1;34m'(?u)\\\\b\\\\w\\\\w+\\\\b'\u001b[0m\u001b[1;33m,\u001b[0m\u001b[1;33m\n",
      "\u001b[0m    \u001b[0mngram_range\u001b[0m\u001b[1;33m=\u001b[0m\u001b[1;33m(\u001b[0m\u001b[1;36m1\u001b[0m\u001b[1;33m,\u001b[0m \u001b[1;36m1\u001b[0m\u001b[1;33m)\u001b[0m\u001b[1;33m,\u001b[0m\u001b[1;33m\n",
      "\u001b[0m    \u001b[0manalyzer\u001b[0m\u001b[1;33m=\u001b[0m\u001b[1;34m'word'\u001b[0m\u001b[1;33m,\u001b[0m\u001b[1;33m\n",
      "\u001b[0m    \u001b[0mmax_df\u001b[0m\u001b[1;33m=\u001b[0m\u001b[1;36m1.0\u001b[0m\u001b[1;33m,\u001b[0m\u001b[1;33m\n",
      "\u001b[0m    \u001b[0mmin_df\u001b[0m\u001b[1;33m=\u001b[0m\u001b[1;36m1\u001b[0m\u001b[1;33m,\u001b[0m\u001b[1;33m\n",
      "\u001b[0m    \u001b[0mmax_features\u001b[0m\u001b[1;33m=\u001b[0m\u001b[1;32mNone\u001b[0m\u001b[1;33m,\u001b[0m\u001b[1;33m\n",
      "\u001b[0m    \u001b[0mvocabulary\u001b[0m\u001b[1;33m=\u001b[0m\u001b[1;32mNone\u001b[0m\u001b[1;33m,\u001b[0m\u001b[1;33m\n",
      "\u001b[0m    \u001b[0mbinary\u001b[0m\u001b[1;33m=\u001b[0m\u001b[1;32mFalse\u001b[0m\u001b[1;33m,\u001b[0m\u001b[1;33m\n",
      "\u001b[0m    \u001b[0mdtype\u001b[0m\u001b[1;33m=\u001b[0m\u001b[1;33m<\u001b[0m\u001b[1;32mclass\u001b[0m \u001b[1;34m'numpy.int64'\u001b[0m\u001b[1;33m>\u001b[0m\u001b[1;33m,\u001b[0m\u001b[1;33m\n",
      "\u001b[0m\u001b[1;33m)\u001b[0m\u001b[1;33m\u001b[0m\u001b[1;33m\u001b[0m\u001b[0m\n",
      "\u001b[1;31mDocstring:\u001b[0m     \n",
      "Convert a collection of text documents to a matrix of token counts\n",
      "\n",
      "This implementation produces a sparse representation of the counts using\n",
      "scipy.sparse.csr_matrix.\n",
      "\n",
      "If you do not provide an a-priori dictionary and you do not use an analyzer\n",
      "that does some kind of feature selection then the number of features will\n",
      "be equal to the vocabulary size found by analyzing the data.\n",
      "\n",
      "Read more in the :ref:`User Guide <text_feature_extraction>`.\n",
      "\n",
      "Parameters\n",
      "----------\n",
      "input : string {'filename', 'file', 'content'}, default='content'\n",
      "    If 'filename', the sequence passed as an argument to fit is\n",
      "    expected to be a list of filenames that need reading to fetch\n",
      "    the raw content to analyze.\n",
      "\n",
      "    If 'file', the sequence items must have a 'read' method (file-like\n",
      "    object) that is called to fetch the bytes in memory.\n",
      "\n",
      "    Otherwise the input is expected to be a sequence of items that\n",
      "    can be of type string or byte.\n",
      "\n",
      "encoding : string, default='utf-8'\n",
      "    If bytes or files are given to analyze, this encoding is used to\n",
      "    decode.\n",
      "\n",
      "decode_error : {'strict', 'ignore', 'replace'}, default='strict'\n",
      "    Instruction on what to do if a byte sequence is given to analyze that\n",
      "    contains characters not of the given `encoding`. By default, it is\n",
      "    'strict', meaning that a UnicodeDecodeError will be raised. Other\n",
      "    values are 'ignore' and 'replace'.\n",
      "\n",
      "strip_accents : {'ascii', 'unicode'}, default=None\n",
      "    Remove accents and perform other character normalization\n",
      "    during the preprocessing step.\n",
      "    'ascii' is a fast method that only works on characters that have\n",
      "    an direct ASCII mapping.\n",
      "    'unicode' is a slightly slower method that works on any characters.\n",
      "    None (default) does nothing.\n",
      "\n",
      "    Both 'ascii' and 'unicode' use NFKD normalization from\n",
      "    :func:`unicodedata.normalize`.\n",
      "\n",
      "lowercase : bool, default=True\n",
      "    Convert all characters to lowercase before tokenizing.\n",
      "\n",
      "preprocessor : callable, default=None\n",
      "    Override the preprocessing (string transformation) stage while\n",
      "    preserving the tokenizing and n-grams generation steps.\n",
      "    Only applies if ``analyzer is not callable``.\n",
      "\n",
      "tokenizer : callable, default=None\n",
      "    Override the string tokenization step while preserving the\n",
      "    preprocessing and n-grams generation steps.\n",
      "    Only applies if ``analyzer == 'word'``.\n",
      "\n",
      "stop_words : string {'english'}, list, default=None\n",
      "    If 'english', a built-in stop word list for English is used.\n",
      "    There are several known issues with 'english' and you should\n",
      "    consider an alternative (see :ref:`stop_words`).\n",
      "\n",
      "    If a list, that list is assumed to contain stop words, all of which\n",
      "    will be removed from the resulting tokens.\n",
      "    Only applies if ``analyzer == 'word'``.\n",
      "\n",
      "    If None, no stop words will be used. max_df can be set to a value\n",
      "    in the range [0.7, 1.0) to automatically detect and filter stop\n",
      "    words based on intra corpus document frequency of terms.\n",
      "\n",
      "token_pattern : string\n",
      "    Regular expression denoting what constitutes a \"token\", only used\n",
      "    if ``analyzer == 'word'``. The default regexp select tokens of 2\n",
      "    or more alphanumeric characters (punctuation is completely ignored\n",
      "    and always treated as a token separator).\n",
      "\n",
      "ngram_range : tuple (min_n, max_n), default=(1, 1)\n",
      "    The lower and upper boundary of the range of n-values for different\n",
      "    word n-grams or char n-grams to be extracted. All values of n such\n",
      "    such that min_n <= n <= max_n will be used. For example an\n",
      "    ``ngram_range`` of ``(1, 1)`` means only unigrams, ``(1, 2)`` means\n",
      "    unigrams and bigrams, and ``(2, 2)`` means only bigrams.\n",
      "    Only applies if ``analyzer is not callable``.\n",
      "\n",
      "analyzer : string, {'word', 'char', 'char_wb'} or callable,             default='word'\n",
      "    Whether the feature should be made of word n-gram or character\n",
      "    n-grams.\n",
      "    Option 'char_wb' creates character n-grams only from text inside\n",
      "    word boundaries; n-grams at the edges of words are padded with space.\n",
      "\n",
      "    If a callable is passed it is used to extract the sequence of features\n",
      "    out of the raw, unprocessed input.\n",
      "\n",
      "    .. versionchanged:: 0.21\n",
      "\n",
      "    Since v0.21, if ``input`` is ``filename`` or ``file``, the data is\n",
      "    first read from the file and then passed to the given callable\n",
      "    analyzer.\n",
      "\n",
      "max_df : float in range [0.0, 1.0] or int, default=1.0\n",
      "    When building the vocabulary ignore terms that have a document\n",
      "    frequency strictly higher than the given threshold (corpus-specific\n",
      "    stop words).\n",
      "    If float, the parameter represents a proportion of documents, integer\n",
      "    absolute counts.\n",
      "    This parameter is ignored if vocabulary is not None.\n",
      "\n",
      "min_df : float in range [0.0, 1.0] or int, default=1\n",
      "    When building the vocabulary ignore terms that have a document\n",
      "    frequency strictly lower than the given threshold. This value is also\n",
      "    called cut-off in the literature.\n",
      "    If float, the parameter represents a proportion of documents, integer\n",
      "    absolute counts.\n",
      "    This parameter is ignored if vocabulary is not None.\n",
      "\n",
      "max_features : int, default=None\n",
      "    If not None, build a vocabulary that only consider the top\n",
      "    max_features ordered by term frequency across the corpus.\n",
      "\n",
      "    This parameter is ignored if vocabulary is not None.\n",
      "\n",
      "vocabulary : Mapping or iterable, default=None\n",
      "    Either a Mapping (e.g., a dict) where keys are terms and values are\n",
      "    indices in the feature matrix, or an iterable over terms. If not\n",
      "    given, a vocabulary is determined from the input documents. Indices\n",
      "    in the mapping should not be repeated and should not have any gap\n",
      "    between 0 and the largest index.\n",
      "\n",
      "binary : bool, default=False\n",
      "    If True, all non zero counts are set to 1. This is useful for discrete\n",
      "    probabilistic models that model binary events rather than integer\n",
      "    counts.\n",
      "\n",
      "dtype : type, default=np.int64\n",
      "    Type of the matrix returned by fit_transform() or transform().\n",
      "\n",
      "Attributes\n",
      "----------\n",
      "vocabulary_ : dict\n",
      "    A mapping of terms to feature indices.\n",
      "\n",
      "fixed_vocabulary_: boolean\n",
      "    True if a fixed vocabulary of term to indices mapping\n",
      "    is provided by the user\n",
      "\n",
      "stop_words_ : set\n",
      "    Terms that were ignored because they either:\n",
      "\n",
      "      - occurred in too many documents (`max_df`)\n",
      "      - occurred in too few documents (`min_df`)\n",
      "      - were cut off by feature selection (`max_features`).\n",
      "\n",
      "    This is only available if no vocabulary was given.\n",
      "\n",
      "Examples\n",
      "--------\n",
      ">>> from sklearn.feature_extraction.text import CountVectorizer\n",
      ">>> corpus = [\n",
      "...     'This is the first document.',\n",
      "...     'This document is the second document.',\n",
      "...     'And this is the third one.',\n",
      "...     'Is this the first document?',\n",
      "... ]\n",
      ">>> vectorizer = CountVectorizer()\n",
      ">>> X = vectorizer.fit_transform(corpus)\n",
      ">>> print(vectorizer.get_feature_names())\n",
      "['and', 'document', 'first', 'is', 'one', 'second', 'the', 'third', 'this']\n",
      ">>> print(X.toarray())\n",
      "[[0 1 1 1 0 0 1 0 1]\n",
      " [0 2 0 1 0 1 1 0 1]\n",
      " [1 0 0 1 1 0 1 1 1]\n",
      " [0 1 1 1 0 0 1 0 1]]\n",
      ">>> vectorizer2 = CountVectorizer(analyzer='word', ngram_range=(2, 2))\n",
      ">>> X2 = vectorizer2.fit_transform(corpus)\n",
      ">>> print(vectorizer2.get_feature_names())\n",
      "['and this', 'document is', 'first document', 'is the', 'is this',\n",
      "'second document', 'the first', 'the second', 'the third', 'third one',\n",
      " 'this document', 'this is', 'this the']\n",
      " >>> print(X2.toarray())\n",
      " [[0 0 1 1 0 0 1 0 0 0 0 1 0]\n",
      " [0 1 0 1 0 1 0 1 0 0 1 0 0]\n",
      " [1 0 0 1 0 0 0 0 1 1 0 1 0]\n",
      " [0 0 1 0 1 0 1 0 0 0 0 0 1]]\n",
      "\n",
      "See Also\n",
      "--------\n",
      "HashingVectorizer, TfidfVectorizer\n",
      "\n",
      "Notes\n",
      "-----\n",
      "The ``stop_words_`` attribute can get large and increase the model size\n",
      "when pickling. This attribute is provided only for introspection and can\n",
      "be safely removed using delattr or set to None before pickling.\n",
      "\u001b[1;31mFile:\u001b[0m           c:\\users\\kcali\\anaconda3\\envs\\learn-env\\lib\\site-packages\\sklearn\\feature_extraction\\text.py\n",
      "\u001b[1;31mType:\u001b[0m           type\n",
      "\u001b[1;31mSubclasses:\u001b[0m     TfidfVectorizer\n"
     ],
     "name": "stdout"
    }
   ],
   "source": [
    "CountVectorizer?"
   ]
  },
  {
   "cell_type": "code",
   "execution_count": 6,
   "metadata": {},
   "outputs": [],
   "source": [
    "cv = CountVectorizer(min_df=5, stop_words='english')"
   ]
  },
  {
   "cell_type": "code",
   "execution_count": 8,
   "metadata": {},
   "outputs": [],
   "source": [
    "dtm = cv.fit_transform(df['sentence_str'])"
   ]
  },
  {
   "cell_type": "code",
   "execution_count": 9,
   "metadata": {},
   "outputs": [
    {
     "output_type": "execute_result",
     "data": {
      "text/plain": [
       "<500x148 sparse matrix of type '<class 'numpy.int64'>'\n",
       "\twith 1727 stored elements in Compressed Sparse Row format>"
      ]
     },
     "metadata": {},
     "execution_count": 9
    }
   ],
   "source": [
    "dtm"
   ]
  },
  {
   "cell_type": "code",
   "execution_count": 10,
   "metadata": {},
   "outputs": [],
   "source": [
    "text_dict = {}\n",
    "\n",
    "for title in df['title'].unique():\n",
    "    text_dict[title] = df[df['title']==title]['sentence_str'].str.cat(sep=' . ')\n",
    "\n"
   ]
  },
  {
   "cell_type": "code",
   "execution_count": 25,
   "metadata": {},
   "outputs": [],
   "source": [
    "book_df = pd.DataFrame()\n",
    "book_df['title'] = list(text_dict.keys())\n",
    "book_df['text'] = list(text_dict.values())"
   ]
  },
  {
   "cell_type": "code",
   "execution_count": 26,
   "metadata": {},
   "outputs": [
    {
     "output_type": "execute_result",
     "data": {
      "text/plain": [
       "                                  title  \\\n",
       "0                Plato - Complete Works   \n",
       "1            Aristotle - Complete Works   \n",
       "2         Second Treatise On Government   \n",
       "3  Essay Concerning Human Understanding   \n",
       "4            A Treatise Of Human Nature   \n",
       "\n",
       "                                                text  \n",
       "0   What's new, Socrates, to make you leave your ...  \n",
       "1   When things have only a name in common and th...  \n",
       "2  Reader, thou hast here the beginning and end o...  \n",
       "3  I have put into thy hands what has been the di...  \n",
       "4  My design in the present work is sufficiently ...  "
      ],
      "text/html": "<div>\n<style scoped>\n    .dataframe tbody tr th:only-of-type {\n        vertical-align: middle;\n    }\n\n    .dataframe tbody tr th {\n        vertical-align: top;\n    }\n\n    .dataframe thead th {\n        text-align: right;\n    }\n</style>\n<table border=\"1\" class=\"dataframe\">\n  <thead>\n    <tr style=\"text-align: right;\">\n      <th></th>\n      <th>title</th>\n      <th>text</th>\n    </tr>\n  </thead>\n  <tbody>\n    <tr>\n      <th>0</th>\n      <td>Plato - Complete Works</td>\n      <td>What's new, Socrates, to make you leave your ...</td>\n    </tr>\n    <tr>\n      <th>1</th>\n      <td>Aristotle - Complete Works</td>\n      <td>When things have only a name in common and th...</td>\n    </tr>\n    <tr>\n      <th>2</th>\n      <td>Second Treatise On Government</td>\n      <td>Reader, thou hast here the beginning and end o...</td>\n    </tr>\n    <tr>\n      <th>3</th>\n      <td>Essay Concerning Human Understanding</td>\n      <td>I have put into thy hands what has been the di...</td>\n    </tr>\n    <tr>\n      <th>4</th>\n      <td>A Treatise Of Human Nature</td>\n      <td>My design in the present work is sufficiently ...</td>\n    </tr>\n  </tbody>\n</table>\n</div>"
     },
     "metadata": {},
     "execution_count": 26
    }
   ],
   "source": [
    "book_df.head()"
   ]
  },
  {
   "cell_type": "code",
   "execution_count": 27,
   "metadata": {},
   "outputs": [
    {
     "output_type": "execute_result",
     "data": {
      "text/plain": [
       "56"
      ]
     },
     "metadata": {},
     "execution_count": 27
    }
   ],
   "source": [
    "len(book_df)"
   ]
  },
  {
   "cell_type": "code",
   "execution_count": 28,
   "metadata": {},
   "outputs": [],
   "source": [
    "dtm = cv.fit_transform(book_df['text'])"
   ]
  },
  {
   "cell_type": "code",
   "execution_count": 30,
   "metadata": {},
   "outputs": [],
   "source": [
    "from sklearn.decomposition import LatentDirichletAllocation"
   ]
  },
  {
   "cell_type": "code",
   "execution_count": 31,
   "metadata": {},
   "outputs": [],
   "source": [
    "LDA = LatentDirichletAllocation(n_components=12, random_state=17)"
   ]
  },
  {
   "cell_type": "code",
   "execution_count": 32,
   "metadata": {},
   "outputs": [
    {
     "output_type": "execute_result",
     "data": {
      "text/plain": [
       "LatentDirichletAllocation(n_components=12, random_state=17)"
      ]
     },
     "metadata": {},
     "execution_count": 32
    }
   ],
   "source": [
    "LDA.fit(dtm)"
   ]
  },
  {
   "cell_type": "code",
   "execution_count": 33,
   "metadata": {},
   "outputs": [
    {
     "output_type": "execute_result",
     "data": {
      "text/plain": [
       "17887"
      ]
     },
     "metadata": {},
     "execution_count": 33
    }
   ],
   "source": [
    "len(cv.get_feature_names())"
   ]
  },
  {
   "cell_type": "code",
   "execution_count": 35,
   "metadata": {},
   "outputs": [
    {
     "output_type": "execute_result",
     "data": {
      "text/plain": [
       "12"
      ]
     },
     "metadata": {},
     "execution_count": 35
    }
   ],
   "source": [
    "len(LDA.components_)"
   ]
  },
  {
   "cell_type": "code",
   "execution_count": 38,
   "metadata": {},
   "outputs": [
    {
     "output_type": "stream",
     "name": "stdout",
     "text": [
      "beings\npossible\nsense\nknowledge\nobject\nway\ntime\nconsciousness\nexperience\nworld\n"
     ]
    }
   ],
   "source": [
    "topic_1 = LDA.components_[0]\n",
    "\n",
    "top_ten_words = topic_1.argsort()[-10:]\n",
    "\n",
    "for index in top_ten_words:\n",
    "    print(cv.get_feature_names()[index])"
   ]
  },
  {
   "cell_type": "code",
   "execution_count": 41,
   "metadata": {},
   "outputs": [
    {
     "output_type": "stream",
     "name": "stdout",
     "text": [
      "TOPIC [31.49752195 21.65078973 14.03591987 ...  0.08333975  0.08333745\n",
      "  0.08333642]\n",
      "======================\n",
      "beings\n",
      "possible\n",
      "sense\n",
      "knowledge\n",
      "object\n",
      "way\n",
      "time\n",
      "consciousness\n",
      "experience\n",
      "world\n",
      "/n\n",
      "TOPIC [ 0.08333366 13.14915217 13.17400832 ...  1.78184933 37.84207282\n",
      " 10.16989987]\n",
      "======================\n",
      "certain\n",
      "fact\n",
      "time\n",
      "world\n",
      "language\n",
      "case\n",
      "sense\n",
      "does\n",
      "true\n",
      "say\n",
      "/n\n",
      "TOPIC [ 2.5106953   0.60721686 11.33310865 ...  0.08333359  0.08333656\n",
      "  0.08333771]\n",
      "======================\n",
      "work\n",
      "means\n",
      "social\n",
      "time\n",
      "power\n",
      "capital\n",
      "form\n",
      "production\n",
      "value\n",
      "labour\n",
      "/n\n",
      "TOPIC [0.08333442 7.97035464 9.53506453 ... 0.08333397 0.08333387 0.08333365]\n",
      "======================\n",
      "question\n",
      "does\n",
      "da\n",
      "state\n",
      "care\n",
      "present\n",
      "sein\n",
      "time\n",
      "world\n",
      "dasein\n",
      "/n\n",
      "TOPIC [2.16219238 8.92147138 3.2339634  ... 0.0833337  0.08333375 0.08333356]\n",
      "======================\n",
      "body\n",
      "like\n",
      "case\n",
      "time\n",
      "animals\n",
      "good\n",
      "does\n",
      "thing\n",
      "man\n",
      "things\n",
      "/n\n",
      "TOPIC [29.85989767 51.52467794 54.19769864 ...  0.08333452  0.08333649\n",
      "  0.08333616]\n",
      "======================\n",
      "nature\n",
      "body\n",
      "life\n",
      "world\n",
      "reason\n",
      "truth\n",
      "order\n",
      "man\n",
      "madness\n",
      "god\n",
      "/n\n",
      "TOPIC [15.66730815  5.14618686  6.14702339 ...  0.08333423  0.08333486\n",
      "  0.08333349]\n",
      "======================\n",
      "reason\n",
      "body\n",
      "man\n",
      "nature\n",
      "god\n",
      "men\n",
      "things\n",
      "idea\n",
      "mind\n",
      "ideas\n",
      "/n\n",
      "TOPIC [11.00728276 10.94054917  7.06890116 ...  0.08333362  0.08333452\n",
      "  0.08333824]\n",
      "======================\n",
      "science\n",
      "investment\n",
      "employment\n",
      "logical\n",
      "sentences\n",
      "statement\n",
      "rate\n",
      "terms\n",
      "statements\n",
      "theory\n",
      "/n\n",
      "TOPIC [ 0.08333438 36.73339491 16.5417028  ...  0.08333343  0.08333343\n",
      "  0.08333333]\n",
      "======================\n",
      "like\n",
      "people\n",
      "way\n",
      "just\n",
      "think\n",
      "said\n",
      "good\n",
      "man\n",
      "say\n",
      "things\n",
      "/n\n",
      "TOPIC [ 8.87842786  4.56213647 14.32845638 ...  3.23558202  0.08333386\n",
      "  0.08333371]\n",
      "======================\n",
      "just\n",
      "unity\n",
      "universal\n",
      "determination\n",
      "content\n",
      "existence\n",
      "form\n",
      "concept\n",
      "consciousness\n",
      "self\n",
      "/n\n",
      "TOPIC [ 0.08333549 12.48249818 13.55001033 ...  0.08333341  0.08333335\n",
      "  0.08333336]\n",
      "======================\n",
      "greater\n",
      "produce\n",
      "quantity\n",
      "capital\n",
      "money\n",
      "country\n",
      "value\n",
      "great\n",
      "labour\n",
      "price\n",
      "/n\n",
      "TOPIC [ 0.08333597 16.3115717   4.85414252 ...  2.23255844  4.32457903\n",
      " 12.9967505 ]\n",
      "======================\n",
      "freedom\n",
      "principle\n",
      "end\n",
      "moral\n",
      "judgement\n",
      "object\n",
      "law\n",
      "concept\n",
      "nature\n",
      "reason\n",
      "/n\n"
     ]
    }
   ],
   "source": [
    "for topic in range(0, 12):\n",
    "    topic = LDA.components_[topic]\n",
    "    top_ten_words = topic.argsort()[-10:]\n",
    "    print(f'TOPIC {topic}')\n",
    "    print('======================')\n",
    "    for index in top_ten_words:\n",
    "        print(cv.get_feature_names()[index])\n",
    "    print(f'/n')"
   ]
  },
  {
   "cell_type": "code",
   "execution_count": null,
   "metadata": {},
   "outputs": [],
   "source": []
  }
 ]
}