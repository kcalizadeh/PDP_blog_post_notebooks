{
 "metadata": {
  "language_info": {
   "codemirror_mode": {
    "name": "ipython",
    "version": 3
   },
   "file_extension": ".py",
   "mimetype": "text/x-python",
   "name": "python",
   "nbconvert_exporter": "python",
   "pygments_lexer": "ipython3",
   "version": "3.6.9-final"
  },
  "orig_nbformat": 2,
  "kernelspec": {
   "name": "python3",
   "display_name": "Python 3.6.9 64-bit ('learn-env': conda)",
   "metadata": {
    "interpreter": {
     "hash": "9ac4d3343b464ceb9c6b349fee6aeea784c980ce57d0bbc1775a5f7d482c030a"
    }
   }
  }
 },
 "nbformat": 4,
 "nbformat_minor": 2,
 "cells": [
  {
   "cell_type": "code",
   "execution_count": 1,
   "metadata": {},
   "outputs": [],
   "source": [
    "import pandas as pd"
   ]
  },
  {
   "cell_type": "code",
   "execution_count": 2,
   "metadata": {},
   "outputs": [
    {
     "output_type": "execute_result",
     "data": {
      "text/plain": [
       "                                                    title       author  \\\n",
       "314126                              The Wealth Of Nations        Smith   \n",
       "200239                                The Order Of Things     Foucault   \n",
       "37547                              Plato - Complete Works        Plato   \n",
       "117222                             The Search After Truth  Malebranche   \n",
       "106133  A Treatise Concerning The Principles Of Human ...     Berkeley   \n",
       "\n",
       "             school                                     sentence_spacy  \\\n",
       "314126   capitalism  Their tendency is not to overturn the natural ...   \n",
       "200239  continental  Whereas the theory of articulation showed how ...   \n",
       "37547         plato  Moreover, suppose that, after you had voted an...   \n",
       "117222  rationalism                  ad cor wellr, sed non ei videlis.   \n",
       "106133   empiricism  Is it not a hard thing to imagine that a coupl...   \n",
       "\n",
       "                                             sentence_str  \\\n",
       "314126  Their tendency is not to overturn the natural ...   \n",
       "200239  Whereas the theory of articulation showed how ...   \n",
       "37547   Moreover, suppose that, after you had voted an...   \n",
       "117222                  ad cor wellr, sed non ei videlis.   \n",
       "106133  Is it not a hard thing to imagine that a coupl...   \n",
       "\n",
       "        original_publication_date  corpus_edition_date  sentence_length  \\\n",
       "314126                       1776                 2009              151   \n",
       "200239                       1966                 2002              331   \n",
       "37547                        -350                 1997              308   \n",
       "117222                       1674                 1997               33   \n",
       "106133                       1710                 2009              304   \n",
       "\n",
       "                                         sentence_lowered  \\\n",
       "314126  their tendency is not to overturn the natural ...   \n",
       "200239  whereas the theory of articulation showed how ...   \n",
       "37547   moreover, suppose that, after you had voted an...   \n",
       "117222                  ad cor wellr, sed non ei videlis.   \n",
       "106133  is it not a hard thing to imagine that a coupl...   \n",
       "\n",
       "                                            tokenized_txt  \\\n",
       "314126  ['their', 'tendency', 'is', 'not', 'to', 'over...   \n",
       "200239  ['whereas', 'the', 'theory', 'of', 'articulati...   \n",
       "37547   ['moreover', 'suppose', 'that', 'after', 'you'...   \n",
       "117222  ['ad', 'cor', 'wellr', 'sed', 'non', 'ei', 'vi...   \n",
       "106133  ['is', 'it', 'not', 'hard', 'thing', 'to', 'im...   \n",
       "\n",
       "                                           lemmatized_str  \n",
       "314126   -PRON- tendency be not to overturn the natura...  \n",
       "200239   whereas the theory of articulation show how t...  \n",
       "37547    moreover , suppose that , after -PRON- have v...  \n",
       "117222                ad cor wellr , sed non ei videlis .  \n",
       "106133   be -PRON- not a hard thing to imagine that a ...  "
      ],
      "text/html": "<div>\n<style scoped>\n    .dataframe tbody tr th:only-of-type {\n        vertical-align: middle;\n    }\n\n    .dataframe tbody tr th {\n        vertical-align: top;\n    }\n\n    .dataframe thead th {\n        text-align: right;\n    }\n</style>\n<table border=\"1\" class=\"dataframe\">\n  <thead>\n    <tr style=\"text-align: right;\">\n      <th></th>\n      <th>title</th>\n      <th>author</th>\n      <th>school</th>\n      <th>sentence_spacy</th>\n      <th>sentence_str</th>\n      <th>original_publication_date</th>\n      <th>corpus_edition_date</th>\n      <th>sentence_length</th>\n      <th>sentence_lowered</th>\n      <th>tokenized_txt</th>\n      <th>lemmatized_str</th>\n    </tr>\n  </thead>\n  <tbody>\n    <tr>\n      <th>314126</th>\n      <td>The Wealth Of Nations</td>\n      <td>Smith</td>\n      <td>capitalism</td>\n      <td>Their tendency is not to overturn the natural ...</td>\n      <td>Their tendency is not to overturn the natural ...</td>\n      <td>1776</td>\n      <td>2009</td>\n      <td>151</td>\n      <td>their tendency is not to overturn the natural ...</td>\n      <td>['their', 'tendency', 'is', 'not', 'to', 'over...</td>\n      <td>-PRON- tendency be not to overturn the natura...</td>\n    </tr>\n    <tr>\n      <th>200239</th>\n      <td>The Order Of Things</td>\n      <td>Foucault</td>\n      <td>continental</td>\n      <td>Whereas the theory of articulation showed how ...</td>\n      <td>Whereas the theory of articulation showed how ...</td>\n      <td>1966</td>\n      <td>2002</td>\n      <td>331</td>\n      <td>whereas the theory of articulation showed how ...</td>\n      <td>['whereas', 'the', 'theory', 'of', 'articulati...</td>\n      <td>whereas the theory of articulation show how t...</td>\n    </tr>\n    <tr>\n      <th>37547</th>\n      <td>Plato - Complete Works</td>\n      <td>Plato</td>\n      <td>plato</td>\n      <td>Moreover, suppose that, after you had voted an...</td>\n      <td>Moreover, suppose that, after you had voted an...</td>\n      <td>-350</td>\n      <td>1997</td>\n      <td>308</td>\n      <td>moreover, suppose that, after you had voted an...</td>\n      <td>['moreover', 'suppose', 'that', 'after', 'you'...</td>\n      <td>moreover , suppose that , after -PRON- have v...</td>\n    </tr>\n    <tr>\n      <th>117222</th>\n      <td>The Search After Truth</td>\n      <td>Malebranche</td>\n      <td>rationalism</td>\n      <td>ad cor wellr, sed non ei videlis.</td>\n      <td>ad cor wellr, sed non ei videlis.</td>\n      <td>1674</td>\n      <td>1997</td>\n      <td>33</td>\n      <td>ad cor wellr, sed non ei videlis.</td>\n      <td>['ad', 'cor', 'wellr', 'sed', 'non', 'ei', 'vi...</td>\n      <td>ad cor wellr , sed non ei videlis .</td>\n    </tr>\n    <tr>\n      <th>106133</th>\n      <td>A Treatise Concerning The Principles Of Human ...</td>\n      <td>Berkeley</td>\n      <td>empiricism</td>\n      <td>Is it not a hard thing to imagine that a coupl...</td>\n      <td>Is it not a hard thing to imagine that a coupl...</td>\n      <td>1710</td>\n      <td>2009</td>\n      <td>304</td>\n      <td>is it not a hard thing to imagine that a coupl...</td>\n      <td>['is', 'it', 'not', 'hard', 'thing', 'to', 'im...</td>\n      <td>be -PRON- not a hard thing to imagine that a ...</td>\n    </tr>\n  </tbody>\n</table>\n</div>"
     },
     "metadata": {},
     "execution_count": 2
    }
   ],
   "source": [
    "df = pd.read_csv('phil_nlp.csv')\n",
    "\n",
    "df.sample(5)"
   ]
  },
  {
   "cell_type": "code",
   "execution_count": 4,
   "metadata": {},
   "outputs": [
    {
     "output_type": "execute_result",
     "data": {
      "text/plain": [
       "-320     48779\n",
       "-350     38366\n",
       " 1950    16091\n",
       " 1817    13768\n",
       " 1985    13120\n",
       " 1949    13017\n",
       " 1674    12997\n",
       " 1883    12996\n",
       " 1776    11693\n",
       " 1975     9798\n",
       " 1972     9360\n",
       " 1689     8885\n",
       " 1927     8505\n",
       " 1936     8243\n",
       " 1961     8033\n",
       " 1945     7592\n",
       " 1781     7472\n",
       " 1807     7099\n",
       " 1739     7047\n",
       " 1710     6067\n",
       " 1967     5999\n",
       " 1887     5916\n",
       " 1968     5861\n",
       " 1953     5838\n",
       " 1888     5726\n",
       " 1798     5308\n",
       " 1820     4923\n",
       " 1921     4725\n",
       " 1966     4689\n",
       " 1959     4678\n",
       " 1862     4469\n",
       " 1790     4204\n",
       " 1677     3793\n",
       " 1910     3668\n",
       " 1981     3059\n",
       " 1792     2559\n",
       " 1963     2518\n",
       " 1788     2452\n",
       " 170      2212\n",
       " 1886     1906\n",
       " 1713     1694\n",
       " 1912     1560\n",
       " 1779     1265\n",
       " 1907      910\n",
       " 1641      792\n",
       " 1848      493\n",
       " 1637      340\n",
       " 125       323\n",
       "Name: original_publication_date, dtype: int64"
      ]
     },
     "metadata": {},
     "execution_count": 4
    }
   ],
   "source": [
    "df['original_publication_date'].value_counts()"
   ]
  },
  {
   "cell_type": "code",
   "execution_count": 5,
   "metadata": {},
   "outputs": [],
   "source": [
    "df_sample = df.sample(100000)"
   ]
  },
  {
   "cell_type": "code",
   "execution_count": 7,
   "metadata": {},
   "outputs": [],
   "source": [
    "from gensim.utils import simple_preprocess\n",
    "\n",
    "df_sample['gensim_tokenized'] = df_sample['sentence_str'].map(lambda x: simple_preprocess(x.lower(),deacc=True,\n",
    "                                                        max_len=500))\n",
    "\n"
   ]
  },
  {
   "cell_type": "code",
   "execution_count": 22,
   "metadata": {},
   "outputs": [],
   "source": [
    "from nltk import FreqDist\n",
    "\n",
    "word_list = []\n",
    "for sentence in df_sample['gensim_tokenized']:\n",
    "    for word in sentence:\n",
    "        word_list.append(word)\n"
   ]
  },
  {
   "cell_type": "code",
   "execution_count": 23,
   "metadata": {},
   "outputs": [
    {
     "output_type": "execute_result",
     "data": {
      "text/plain": [
       "2567235"
      ]
     },
     "metadata": {},
     "execution_count": 23
    }
   ],
   "source": [
    "len(word_list)"
   ]
  },
  {
   "cell_type": "code",
   "execution_count": 24,
   "metadata": {},
   "outputs": [
    {
     "output_type": "execute_result",
     "data": {
      "text/plain": [
       "1125"
      ]
     },
     "metadata": {},
     "execution_count": 24
    }
   ],
   "source": [
    "count = 0\n",
    "for word in word_list:\n",
    "    if word == 'love':\n",
    "        count += 1\n",
    "\n",
    "count"
   ]
  },
  {
   "cell_type": "code",
   "execution_count": 25,
   "metadata": {},
   "outputs": [],
   "source": [
    "freqdist = FreqDist([word.lower() for word in word_list])"
   ]
  },
  {
   "cell_type": "code",
   "execution_count": 21,
   "metadata": {},
   "outputs": [
    {
     "output_type": "execute_result",
     "data": {
      "text/plain": [
       "1125.0"
      ]
     },
     "metadata": {},
     "execution_count": 21
    }
   ],
   "source": [
    "freqdist.freq('love') * len(word_list)"
   ]
  },
  {
   "cell_type": "code",
   "execution_count": 28,
   "metadata": {},
   "outputs": [
    {
     "output_type": "execute_result",
     "data": {
      "text/plain": [
       "1125"
      ]
     },
     "metadata": {},
     "execution_count": 28
    }
   ],
   "source": [
    "def get_frequency(search_term, df):\n",
    "    word_list = []\n",
    "    for sentence in df['gensim_tokenized']:\n",
    "        for word in sentence:\n",
    "            word_list.append(word)\n",
    "    count = 0\n",
    "    for word in word_list:\n",
    "        if word == search_term:\n",
    "            count += 1\n",
    "    return count\n",
    "\n",
    "get_frequency('love', df_sample)\n",
    "\n",
    "\n",
    "    "
   ]
  },
  {
   "cell_type": "code",
   "execution_count": 56,
   "metadata": {},
   "outputs": [
    {
     "output_type": "execute_result",
     "data": {
      "text/plain": [
       "{-350: 162,\n",
       " -320: 88,\n",
       " 1883: 3,\n",
       " 1887: 75,\n",
       " 1927: 0,\n",
       " 1862: 0,\n",
       " 1985: 1,\n",
       " 1950: 1,\n",
       " 1967: 1,\n",
       " 1689: 10,\n",
       " 1807: 6,\n",
       " 1975: 0,\n",
       " 1968: 7,\n",
       " 1907: 0,\n",
       " 1972: 15,\n",
       " 1790: 5,\n",
       " 1963: 0,\n",
       " 1953: 0,\n",
       " 1739: 64,\n",
       " 1781: 0,\n",
       " 1788: 17,\n",
       " 1936: 2,\n",
       " 1888: 27,\n",
       " 1779: 2,\n",
       " 1961: 11,\n",
       " 1817: 0,\n",
       " 1949: 242,\n",
       " 1637: 1,\n",
       " 1820: 15,\n",
       " 1945: 20,\n",
       " 1798: 11,\n",
       " 1910: 3,\n",
       " 1641: 0,\n",
       " 1776: 3,\n",
       " 1674: 177,\n",
       " 1959: 0,\n",
       " 1981: 0,\n",
       " 1886: 22,\n",
       " 1710: 14,\n",
       " 1912: 2,\n",
       " 170: 7,\n",
       " 1921: 1,\n",
       " 1966: 2,\n",
       " 125: 0,\n",
       " 1792: 44,\n",
       " 1677: 64,\n",
       " 1713: 0,\n",
       " 1848: 0}"
      ]
     },
     "metadata": {},
     "execution_count": 56
    }
   ],
   "source": [
    "year_dict = {}\n",
    "for year in df_sample['original_publication_date'].unique():\n",
    "    year_dict[year] = get_frequency('love', df_sample[df_sample['original_publication_date']==year])\n",
    "\n",
    "year_dict"
   ]
  },
  {
   "cell_type": "code",
   "execution_count": 57,
   "metadata": {},
   "outputs": [],
   "source": [
    "import plotly.express as px"
   ]
  },
  {
   "cell_type": "code",
   "execution_count": 58,
   "metadata": {},
   "outputs": [],
   "source": [
    "year_df = pd.DataFrame()\n",
    "year_df['year'] = list(year_dict.keys())\n",
    "year_df['frequency'] = list(year_dict.values())\n",
    "year_df = year_df.sort_values('year')\n",
    "# fig = px.bar(year_dict,\n",
    "#             x='year',\n",
    "#             y='frequency')"
   ]
  },
  {
   "cell_type": "code",
   "execution_count": 60,
   "metadata": {},
   "outputs": [
    {
     "output_type": "display_data",
     "data": {
      "application/vnd.plotly.v1+json": {
       "config": {
        "plotlyServerURL": "https://plot.ly"
       },
       "data": [
        {
         "hoverlabel": {
          "namelength": 0
         },
         "hovertemplate": "year=%{x}<br>frequency=%{y}",
         "legendgroup": "",
         "line": {
          "color": "#636efa",
          "dash": "solid"
         },
         "mode": "lines",
         "name": "",
         "showlegend": false,
         "type": "scatter",
         "x": [
          -350,
          -320,
          125,
          170,
          1637,
          1641,
          1674,
          1677,
          1689,
          1710,
          1713,
          1739,
          1776,
          1779,
          1781,
          1788,
          1790,
          1792,
          1798,
          1807,
          1817,
          1820,
          1848,
          1862,
          1883,
          1886,
          1887,
          1888,
          1907,
          1910,
          1912,
          1921,
          1927,
          1936,
          1945,
          1949,
          1950,
          1953,
          1959,
          1961,
          1963,
          1966,
          1967,
          1968,
          1972,
          1975,
          1981,
          1985
         ],
         "xaxis": "x",
         "y": [
          162,
          88,
          0,
          7,
          1,
          0,
          177,
          64,
          10,
          14,
          0,
          64,
          3,
          2,
          0,
          17,
          5,
          44,
          11,
          6,
          0,
          15,
          0,
          0,
          3,
          22,
          75,
          27,
          0,
          3,
          2,
          1,
          0,
          2,
          20,
          242,
          1,
          0,
          0,
          11,
          0,
          2,
          1,
          7,
          15,
          0,
          0,
          1
         ],
         "yaxis": "y"
        }
       ],
       "layout": {
        "height": 600,
        "legend": {
         "tracegroupgap": 0
        },
        "margin": {
         "t": 60
        },
        "template": {
         "data": {
          "bar": [
           {
            "error_x": {
             "color": "#2a3f5f"
            },
            "error_y": {
             "color": "#2a3f5f"
            },
            "marker": {
             "line": {
              "color": "#E5ECF6",
              "width": 0.5
             }
            },
            "type": "bar"
           }
          ],
          "barpolar": [
           {
            "marker": {
             "line": {
              "color": "#E5ECF6",
              "width": 0.5
             }
            },
            "type": "barpolar"
           }
          ],
          "carpet": [
           {
            "aaxis": {
             "endlinecolor": "#2a3f5f",
             "gridcolor": "white",
             "linecolor": "white",
             "minorgridcolor": "white",
             "startlinecolor": "#2a3f5f"
            },
            "baxis": {
             "endlinecolor": "#2a3f5f",
             "gridcolor": "white",
             "linecolor": "white",
             "minorgridcolor": "white",
             "startlinecolor": "#2a3f5f"
            },
            "type": "carpet"
           }
          ],
          "choropleth": [
           {
            "colorbar": {
             "outlinewidth": 0,
             "ticks": ""
            },
            "type": "choropleth"
           }
          ],
          "contour": [
           {
            "colorbar": {
             "outlinewidth": 0,
             "ticks": ""
            },
            "colorscale": [
             [
              0,
              "#0d0887"
             ],
             [
              0.1111111111111111,
              "#46039f"
             ],
             [
              0.2222222222222222,
              "#7201a8"
             ],
             [
              0.3333333333333333,
              "#9c179e"
             ],
             [
              0.4444444444444444,
              "#bd3786"
             ],
             [
              0.5555555555555556,
              "#d8576b"
             ],
             [
              0.6666666666666666,
              "#ed7953"
             ],
             [
              0.7777777777777778,
              "#fb9f3a"
             ],
             [
              0.8888888888888888,
              "#fdca26"
             ],
             [
              1,
              "#f0f921"
             ]
            ],
            "type": "contour"
           }
          ],
          "contourcarpet": [
           {
            "colorbar": {
             "outlinewidth": 0,
             "ticks": ""
            },
            "type": "contourcarpet"
           }
          ],
          "heatmap": [
           {
            "colorbar": {
             "outlinewidth": 0,
             "ticks": ""
            },
            "colorscale": [
             [
              0,
              "#0d0887"
             ],
             [
              0.1111111111111111,
              "#46039f"
             ],
             [
              0.2222222222222222,
              "#7201a8"
             ],
             [
              0.3333333333333333,
              "#9c179e"
             ],
             [
              0.4444444444444444,
              "#bd3786"
             ],
             [
              0.5555555555555556,
              "#d8576b"
             ],
             [
              0.6666666666666666,
              "#ed7953"
             ],
             [
              0.7777777777777778,
              "#fb9f3a"
             ],
             [
              0.8888888888888888,
              "#fdca26"
             ],
             [
              1,
              "#f0f921"
             ]
            ],
            "type": "heatmap"
           }
          ],
          "heatmapgl": [
           {
            "colorbar": {
             "outlinewidth": 0,
             "ticks": ""
            },
            "colorscale": [
             [
              0,
              "#0d0887"
             ],
             [
              0.1111111111111111,
              "#46039f"
             ],
             [
              0.2222222222222222,
              "#7201a8"
             ],
             [
              0.3333333333333333,
              "#9c179e"
             ],
             [
              0.4444444444444444,
              "#bd3786"
             ],
             [
              0.5555555555555556,
              "#d8576b"
             ],
             [
              0.6666666666666666,
              "#ed7953"
             ],
             [
              0.7777777777777778,
              "#fb9f3a"
             ],
             [
              0.8888888888888888,
              "#fdca26"
             ],
             [
              1,
              "#f0f921"
             ]
            ],
            "type": "heatmapgl"
           }
          ],
          "histogram": [
           {
            "marker": {
             "colorbar": {
              "outlinewidth": 0,
              "ticks": ""
             }
            },
            "type": "histogram"
           }
          ],
          "histogram2d": [
           {
            "colorbar": {
             "outlinewidth": 0,
             "ticks": ""
            },
            "colorscale": [
             [
              0,
              "#0d0887"
             ],
             [
              0.1111111111111111,
              "#46039f"
             ],
             [
              0.2222222222222222,
              "#7201a8"
             ],
             [
              0.3333333333333333,
              "#9c179e"
             ],
             [
              0.4444444444444444,
              "#bd3786"
             ],
             [
              0.5555555555555556,
              "#d8576b"
             ],
             [
              0.6666666666666666,
              "#ed7953"
             ],
             [
              0.7777777777777778,
              "#fb9f3a"
             ],
             [
              0.8888888888888888,
              "#fdca26"
             ],
             [
              1,
              "#f0f921"
             ]
            ],
            "type": "histogram2d"
           }
          ],
          "histogram2dcontour": [
           {
            "colorbar": {
             "outlinewidth": 0,
             "ticks": ""
            },
            "colorscale": [
             [
              0,
              "#0d0887"
             ],
             [
              0.1111111111111111,
              "#46039f"
             ],
             [
              0.2222222222222222,
              "#7201a8"
             ],
             [
              0.3333333333333333,
              "#9c179e"
             ],
             [
              0.4444444444444444,
              "#bd3786"
             ],
             [
              0.5555555555555556,
              "#d8576b"
             ],
             [
              0.6666666666666666,
              "#ed7953"
             ],
             [
              0.7777777777777778,
              "#fb9f3a"
             ],
             [
              0.8888888888888888,
              "#fdca26"
             ],
             [
              1,
              "#f0f921"
             ]
            ],
            "type": "histogram2dcontour"
           }
          ],
          "mesh3d": [
           {
            "colorbar": {
             "outlinewidth": 0,
             "ticks": ""
            },
            "type": "mesh3d"
           }
          ],
          "parcoords": [
           {
            "line": {
             "colorbar": {
              "outlinewidth": 0,
              "ticks": ""
             }
            },
            "type": "parcoords"
           }
          ],
          "scatter": [
           {
            "marker": {
             "colorbar": {
              "outlinewidth": 0,
              "ticks": ""
             }
            },
            "type": "scatter"
           }
          ],
          "scatter3d": [
           {
            "line": {
             "colorbar": {
              "outlinewidth": 0,
              "ticks": ""
             }
            },
            "marker": {
             "colorbar": {
              "outlinewidth": 0,
              "ticks": ""
             }
            },
            "type": "scatter3d"
           }
          ],
          "scattercarpet": [
           {
            "marker": {
             "colorbar": {
              "outlinewidth": 0,
              "ticks": ""
             }
            },
            "type": "scattercarpet"
           }
          ],
          "scattergeo": [
           {
            "marker": {
             "colorbar": {
              "outlinewidth": 0,
              "ticks": ""
             }
            },
            "type": "scattergeo"
           }
          ],
          "scattergl": [
           {
            "marker": {
             "colorbar": {
              "outlinewidth": 0,
              "ticks": ""
             }
            },
            "type": "scattergl"
           }
          ],
          "scattermapbox": [
           {
            "marker": {
             "colorbar": {
              "outlinewidth": 0,
              "ticks": ""
             }
            },
            "type": "scattermapbox"
           }
          ],
          "scatterpolar": [
           {
            "marker": {
             "colorbar": {
              "outlinewidth": 0,
              "ticks": ""
             }
            },
            "type": "scatterpolar"
           }
          ],
          "scatterpolargl": [
           {
            "marker": {
             "colorbar": {
              "outlinewidth": 0,
              "ticks": ""
             }
            },
            "type": "scatterpolargl"
           }
          ],
          "scatterternary": [
           {
            "marker": {
             "colorbar": {
              "outlinewidth": 0,
              "ticks": ""
             }
            },
            "type": "scatterternary"
           }
          ],
          "surface": [
           {
            "colorbar": {
             "outlinewidth": 0,
             "ticks": ""
            },
            "colorscale": [
             [
              0,
              "#0d0887"
             ],
             [
              0.1111111111111111,
              "#46039f"
             ],
             [
              0.2222222222222222,
              "#7201a8"
             ],
             [
              0.3333333333333333,
              "#9c179e"
             ],
             [
              0.4444444444444444,
              "#bd3786"
             ],
             [
              0.5555555555555556,
              "#d8576b"
             ],
             [
              0.6666666666666666,
              "#ed7953"
             ],
             [
              0.7777777777777778,
              "#fb9f3a"
             ],
             [
              0.8888888888888888,
              "#fdca26"
             ],
             [
              1,
              "#f0f921"
             ]
            ],
            "type": "surface"
           }
          ],
          "table": [
           {
            "cells": {
             "fill": {
              "color": "#EBF0F8"
             },
             "line": {
              "color": "white"
             }
            },
            "header": {
             "fill": {
              "color": "#C8D4E3"
             },
             "line": {
              "color": "white"
             }
            },
            "type": "table"
           }
          ]
         },
         "layout": {
          "annotationdefaults": {
           "arrowcolor": "#2a3f5f",
           "arrowhead": 0,
           "arrowwidth": 1
          },
          "colorscale": {
           "diverging": [
            [
             0,
             "#8e0152"
            ],
            [
             0.1,
             "#c51b7d"
            ],
            [
             0.2,
             "#de77ae"
            ],
            [
             0.3,
             "#f1b6da"
            ],
            [
             0.4,
             "#fde0ef"
            ],
            [
             0.5,
             "#f7f7f7"
            ],
            [
             0.6,
             "#e6f5d0"
            ],
            [
             0.7,
             "#b8e186"
            ],
            [
             0.8,
             "#7fbc41"
            ],
            [
             0.9,
             "#4d9221"
            ],
            [
             1,
             "#276419"
            ]
           ],
           "sequential": [
            [
             0,
             "#0d0887"
            ],
            [
             0.1111111111111111,
             "#46039f"
            ],
            [
             0.2222222222222222,
             "#7201a8"
            ],
            [
             0.3333333333333333,
             "#9c179e"
            ],
            [
             0.4444444444444444,
             "#bd3786"
            ],
            [
             0.5555555555555556,
             "#d8576b"
            ],
            [
             0.6666666666666666,
             "#ed7953"
            ],
            [
             0.7777777777777778,
             "#fb9f3a"
            ],
            [
             0.8888888888888888,
             "#fdca26"
            ],
            [
             1,
             "#f0f921"
            ]
           ],
           "sequentialminus": [
            [
             0,
             "#0d0887"
            ],
            [
             0.1111111111111111,
             "#46039f"
            ],
            [
             0.2222222222222222,
             "#7201a8"
            ],
            [
             0.3333333333333333,
             "#9c179e"
            ],
            [
             0.4444444444444444,
             "#bd3786"
            ],
            [
             0.5555555555555556,
             "#d8576b"
            ],
            [
             0.6666666666666666,
             "#ed7953"
            ],
            [
             0.7777777777777778,
             "#fb9f3a"
            ],
            [
             0.8888888888888888,
             "#fdca26"
            ],
            [
             1,
             "#f0f921"
            ]
           ]
          },
          "colorway": [
           "#636efa",
           "#EF553B",
           "#00cc96",
           "#ab63fa",
           "#FFA15A",
           "#19d3f3",
           "#FF6692",
           "#B6E880",
           "#FF97FF",
           "#FECB52"
          ],
          "font": {
           "color": "#2a3f5f"
          },
          "geo": {
           "bgcolor": "white",
           "lakecolor": "white",
           "landcolor": "#E5ECF6",
           "showlakes": true,
           "showland": true,
           "subunitcolor": "white"
          },
          "hoverlabel": {
           "align": "left"
          },
          "hovermode": "closest",
          "mapbox": {
           "style": "light"
          },
          "paper_bgcolor": "white",
          "plot_bgcolor": "#E5ECF6",
          "polar": {
           "angularaxis": {
            "gridcolor": "white",
            "linecolor": "white",
            "ticks": ""
           },
           "bgcolor": "#E5ECF6",
           "radialaxis": {
            "gridcolor": "white",
            "linecolor": "white",
            "ticks": ""
           }
          },
          "scene": {
           "xaxis": {
            "backgroundcolor": "#E5ECF6",
            "gridcolor": "white",
            "gridwidth": 2,
            "linecolor": "white",
            "showbackground": true,
            "ticks": "",
            "zerolinecolor": "white"
           },
           "yaxis": {
            "backgroundcolor": "#E5ECF6",
            "gridcolor": "white",
            "gridwidth": 2,
            "linecolor": "white",
            "showbackground": true,
            "ticks": "",
            "zerolinecolor": "white"
           },
           "zaxis": {
            "backgroundcolor": "#E5ECF6",
            "gridcolor": "white",
            "gridwidth": 2,
            "linecolor": "white",
            "showbackground": true,
            "ticks": "",
            "zerolinecolor": "white"
           }
          },
          "shapedefaults": {
           "line": {
            "color": "#2a3f5f"
           }
          },
          "ternary": {
           "aaxis": {
            "gridcolor": "white",
            "linecolor": "white",
            "ticks": ""
           },
           "baxis": {
            "gridcolor": "white",
            "linecolor": "white",
            "ticks": ""
           },
           "bgcolor": "#E5ECF6",
           "caxis": {
            "gridcolor": "white",
            "linecolor": "white",
            "ticks": ""
           }
          },
          "title": {
           "x": 0.05
          },
          "xaxis": {
           "automargin": true,
           "gridcolor": "white",
           "linecolor": "white",
           "ticks": "",
           "zerolinecolor": "white",
           "zerolinewidth": 2
          },
          "yaxis": {
           "automargin": true,
           "gridcolor": "white",
           "linecolor": "white",
           "ticks": "",
           "zerolinecolor": "white",
           "zerolinewidth": 2
          }
         }
        },
        "width": 1000,
        "xaxis": {
         "anchor": "y",
         "domain": [
          0,
          0.98
         ],
         "title": {
          "text": "year"
         }
        },
        "yaxis": {
         "anchor": "x",
         "domain": [
          0,
          1
         ],
         "title": {
          "text": "frequency"
         }
        }
       }
      }
     },
     "metadata": {}
    }
   ],
   "source": [
    "fig = px.line(year_df, x='year', y='frequency', width=1000)\n",
    "fig.show()"
   ]
  },
  {
   "cell_type": "code",
   "execution_count": null,
   "metadata": {},
   "outputs": [],
   "source": []
  }
 ]
}